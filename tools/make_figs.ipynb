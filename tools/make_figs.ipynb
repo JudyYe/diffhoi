{
 "cells": [
  {
   "cell_type": "code",
   "execution_count": 4,
   "metadata": {},
   "outputs": [
    {
     "name": "stdout",
     "output_type": "stream",
     "text": [
      "The autoreload extension is already loaded. To reload it, use:\n",
      "  %reload_ext autoreload\n"
     ]
    },
    {
     "name": "stderr",
     "output_type": "stream",
     "text": [
      "/tmp/ipykernel_103034/1046828561.py:3: DeprecationWarning: Importing display from IPython.core.display is deprecated since IPython 7.14, please import from IPython display\n",
      "  from IPython.core.display import display, HTML\n"
     ]
    }
   ],
   "source": [
    "%load_ext autoreload\n",
    "%autoreload 2\n",
    "from IPython.core.display import display, HTML\n",
    "def display_web(fname):\n",
    "    with open(fname) as fp:\n",
    "        html = fp.read()\n",
    "    display(HTML(html))\n",
    "\n"
   ]
  },
  {
   "cell_type": "code",
   "execution_count": null,
   "metadata": {},
   "outputs": [],
   "source": [
    "import matplotlib.pyplot as plt\n",
    "import numpy as np\n",
    "import os\n",
    "from PIL import Image\n",
    "from mpl_toolkits.axes_grid1 import ImageGrid\n",
    "\n",
    "image_list=[['obj_normal_noisy.png', 'gt_image.png'],['obj_mask_noisy.png', 'rend_image.png']]\n",
    "m,n=(len(image_list), len(image_list[0]))\n",
    "\n",
    "flat_list=[item for sublist in image_list for item in sublist]\n",
    "img_arr=[]\n",
    "for img in flat_list:\n",
    "    if os.path.exists()\n",
    "    img = Image.open(img).convert('RGB')\n",
    "    img = np.asarray(img)\n",
    "    img_arr.append(img)\n",
    "\n",
    "fig = plt.figure(figsize=(20., 20.))\n",
    "grid = ImageGrid(fig, 111, nrows_ncols=(m, n), axes_pad=0.1)\n",
    "\n",
    "for ax, im in zip(grid, img_arr):\n",
    "    ax.imshow(im)\n",
    "\n",
    "plt.show()"
   ]
  },
  {
   "cell_type": "markdown",
   "metadata": {},
   "source": [
    "import matplotlib.pyplot as plt\n",
    "import numpy as np\n",
    "import os\n",
    "from PIL import Image\n",
    "from mpl_toolkits.axes_grid1 import ImageGrid\n",
    "\n",
    "def display(image_list):\n",
    "    m,n=(len(image_list), len(image_list[0]))\n",
    "\n",
    "    flat_list=[item for sublist in image_list for item in sublist]\n",
    "    img_arr=[]\n",
    "    for img in flat_list:\n",
    "        if len()\n",
    "        if not os.path.exists(img):\n",
    "            print('img not there')\n",
    "            img_arr.append(np.zeros((256,256,3)))\n",
    "            continue\n",
    "        img = Image.open(img).convert('RGB')\n",
    "        img = np.asarray(img)\n",
    "        img_arr.append(img)\n",
    "\n",
    "    fig = plt.figure(figsize=(20., 20.))\n",
    "    grid = ImageGrid(fig, 111, nrows_ncols=(m, n), axes_pad=0.1)\n",
    "\n",
    "    for ax, im in zip(grid, img_arr):\n",
    "        ax.imshow(im)\n",
    "\n",
    "    plt.show()"
   ]
  },
  {
   "cell_type": "code",
   "execution_count": 2,
   "metadata": {},
   "outputs": [],
   "source": [
    "from make_better_fig import *\n",
    "from omegaconf import OmegaConf"
   ]
  },
  {
   "cell_type": "code",
   "execution_count": 3,
   "metadata": {},
   "outputs": [
    {
     "ename": "IndexError",
     "evalue": "list index out of range",
     "output_type": "error",
     "traceback": [
      "\u001b[0;31m---------------------------------------------------------------------------\u001b[0m",
      "\u001b[0;31mIndexError\u001b[0m                                Traceback (most recent call last)",
      "Cell \u001b[0;32mIn[3], line 10\u001b[0m\n\u001b[1;32m      1\u001b[0m cfg \u001b[39m=\u001b[39m OmegaConf\u001b[39m.\u001b[39mcreate({\n\u001b[1;32m      2\u001b[0m     \u001b[39m'\u001b[39m\u001b[39mfig\u001b[39m\u001b[39m'\u001b[39m: \u001b[39m'\u001b[39m\u001b[39mgt\u001b[39m\u001b[39m'\u001b[39m,\n\u001b[1;32m      3\u001b[0m     \n\u001b[0;32m   (...)\u001b[0m\n\u001b[1;32m      8\u001b[0m     \u001b[39m'\u001b[39m\u001b[39mt\u001b[39m\u001b[39m'\u001b[39m: \u001b[39m1\u001b[39m,\n\u001b[1;32m      9\u001b[0m     })\n\u001b[0;32m---> 10\u001b[0m cell_list \u001b[39m=\u001b[39m get_image_grid(cfg)\n\u001b[1;32m     11\u001b[0m display(cell_list)\n",
      "File \u001b[0;32m~/vhoi/neurecon/tools/make_better_fig.py:192\u001b[0m, in \u001b[0;36mget_image_grid\u001b[0;34m(args)\u001b[0m\n\u001b[1;32m    190\u001b[0m \u001b[39mdef\u001b[39;00m \u001b[39mget_image_grid\u001b[39m(args):\n\u001b[1;32m    191\u001b[0m     merge_fig(args)\n\u001b[0;32m--> 192\u001b[0m     cell_list \u001b[39m=\u001b[39m web_merge(args)\n\u001b[1;32m    193\u001b[0m     \u001b[39mreturn\u001b[39;00m cell_list\n",
      "File \u001b[0;32m~/vhoi/neurecon/tools/make_better_fig.py:134\u001b[0m, in \u001b[0;36mweb_merge\u001b[0;34m(args)\u001b[0m\n\u001b[1;32m    132\u001b[0m     \u001b[39mcontinue\u001b[39;00m\n\u001b[1;32m    133\u001b[0m cnt \u001b[39m+\u001b[39m\u001b[39m=\u001b[39m \u001b[39m1\u001b[39m\n\u001b[0;32m--> 134\u001b[0m cell_list[i]\u001b[39m.\u001b[39mappend(line)\n\u001b[1;32m    135\u001b[0m \u001b[39m# for j, fname in enumerate(line):\u001b[39;00m\n\u001b[1;32m    136\u001b[0m     \u001b[39m# cell_list[cnt][j] = fname\u001b[39;00m\n\u001b[1;32m    137\u001b[0m \u001b[39m# print(len(line), query)\u001b[39;00m\n\u001b[1;32m    138\u001b[0m \n\u001b[1;32m    139\u001b[0m \u001b[39m# cell_list.append(line)\u001b[39;00m\n\u001b[1;32m    140\u001b[0m \u001b[39mprint\u001b[39m(line)\n",
      "\u001b[0;31mIndexError\u001b[0m: list index out of range"
     ]
    }
   ],
   "source": [
    "cfg = OmegaConf.create({\n",
    "    'fig': 'gt',\n",
    "    \n",
    "    'method': 'gt',\n",
    "    'degree': 'overlay',\n",
    "    'suf': 'hoi',\n",
    "    'data': 'hoi4d',\n",
    "    't': 1,\n",
    "    })\n",
    "cell_list = get_image_grid(cfg)\n",
    "display(cell_list)"
   ]
  },
  {
   "cell_type": "code",
   "execution_count": null,
   "metadata": {},
   "outputs": [],
   "source": []
  }
 ],
 "metadata": {
  "kernelspec": {
   "display_name": "nerfstudio",
   "language": "python",
   "name": "python3"
  },
  "language_info": {
   "codemirror_mode": {
    "name": "ipython",
    "version": 3
   },
   "file_extension": ".py",
   "mimetype": "text/x-python",
   "name": "python",
   "nbconvert_exporter": "python",
   "pygments_lexer": "ipython3",
   "version": "3.8.15"
  },
  "orig_nbformat": 4
 },
 "nbformat": 4,
 "nbformat_minor": 2
}
